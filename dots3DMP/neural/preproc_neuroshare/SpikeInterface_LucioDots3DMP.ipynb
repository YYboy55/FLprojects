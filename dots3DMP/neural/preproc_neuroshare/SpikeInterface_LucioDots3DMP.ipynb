{
 "cells": [
  {
   "cell_type": "markdown",
   "id": "bd1b60ad",
   "metadata": {},
   "source": [
    "Use spikeinterface to simplify the spike sorting pipeline for dots3DMP\n",
    "For single electrode recordings, use wave_clus.\n",
    "For probe recordings, compare Kilosort (multiple versions) to each other, and a few other sorters, to settle on preferred one?\n",
    "Using Kilosort 2.0 via Matlab, but I'm unconvinced or uncertain about a lot of the output.\n",
    "\n",
    "For guidance and example code, much of which was adapted for this notebook, see:\n",
    "https://spikeinterface.readthedocs.io/en/latest/overview.html\n",
    "https://probeinterface.readthedocs.io/en/main/index.html\n",
    "\n",
    "Steven Jerjian Created 01/2023"
   ]
  },
  {
   "cell_type": "code",
   "execution_count": 2,
   "id": "f690461e",
   "metadata": {},
   "outputs": [],
   "source": [
    "import spikeinterface as si  # import core only\n",
    "import spikeinterface.extractors as se\n",
    "import spikeinterface.preprocessing as spre\n",
    "import spikeinterface.postprocessing as spost\n",
    "import spikeinterface.sorters as ss\n",
    "import spikeinterface.comparison as sc\n",
    "import spikeinterface.widgets as sw\n",
    "from spikeinterface.qualitymetrics import (compute_snrs, compute_firing_rate,\n",
    "    compute_isi_violations, calculate_pc_metrics, compute_quality_metrics)\n",
    "from spikeinterface.exporters import export_to_phy\n",
    "\n",
    "from probeinterface import Probe\n",
    "from probeinterface.plotting import plot_probe\n",
    "\n",
    "import glob\n",
    "import os\n",
    "import numpy as np\n",
    "import matplotlib.pyplot as plt\n",
    "%matplotlib inline"
   ]
  },
  {
   "cell_type": "code",
   "execution_count": 3,
   "id": "f9a9f67a",
   "metadata": {},
   "outputs": [
    {
     "name": "stdout",
     "output_type": "stream",
     "text": [
      "Available sorters ['combinato', 'hdsort', 'herdingspikes', 'ironclust', 'kilosort', 'kilosort2', 'kilosort2_5', 'kilosort3', 'klusta', 'mountainsort4', 'pykilosort', 'spykingcircus', 'spykingcircus2', 'tridesclous', 'tridesclous2', 'waveclus', 'waveclus_snippets', 'yass']\n"
     ]
    }
   ],
   "source": [
    "# if sorter is not installed, no problem, just use the docker image.\n",
    "print('Available sorters', ss.available_sorters())\n",
    "#print('Installed sorters', ss.installed_sorters())\n"
   ]
  },
  {
   "cell_type": "markdown",
   "id": "5966faee",
   "metadata": {},
   "source": [
    "Provide subject, and date(s) we want to sort\n",
    "Provide probe_type as 'single', 'DBC32-A' etc\n",
    "Find all ns5 files for that date, for sorting\n",
    "\n",
    "Define recording 'sets', i.e. the grouping of ns5 files that were recorded at the same depth (and should be sorted together).\n",
    "Should be incremental e.g. [1 2 3 4 5], or [1 1 2 2]. Sets are specified in recording notes and Matlab _info file"
   ]
  },
  {
   "cell_type": "code",
   "execution_count": 4,
   "id": "483a68eb",
   "metadata": {},
   "outputs": [
    {
     "name": "stdout",
     "output_type": "stream",
     "text": [
      "D:/20220218/\n"
     ]
    }
   ],
   "source": [
    "# for now it's easier to stick to sorting just one recording at a time. We will need to inspect the results of each one anyway\n",
    "# but we could make rec_set (and ns5_files) a list of lists\n",
    "\n",
    "subject = 'lucio'\n",
    "date    = 20220218\n",
    "\n",
    "probe_type = 'single'\n",
    "distance_to_first_contact = 750 # only relevant for DBC probes, this is estimate based on microscope inspection, and probe specific\n",
    "\n",
    "#data_dir = r'\\\\172.30.3.33\\\\homes\\\\fetschlab\\\\data\\\\{0}\\\\{0}_neuro\\\\{1}\\\\'.format(subject,str(date))\n",
    "#data_dir = 'Z:/{0}/{0}_neuro/{1}/'.format(subject,str(date))\n",
    "data_dir = 'D:/{}/'.format(str(date))\n",
    "#data_dir = '/mnt/z/fetschlab/data/{0}/{0}_neuro/{1}/'.format(subject,str(date))\n",
    "print(data_dir)"
   ]
  },
  {
   "cell_type": "code",
   "execution_count": 5,
   "id": "4c4a007f",
   "metadata": {},
   "outputs": [
    {
     "name": "stdout",
     "output_type": "stream",
     "text": [
      "Directory: D:/20220218/\n",
      "0 [1] [False] [1] D:/20220218\\lucio20220218dots3DMP0001.ns5\n",
      "1 [2] [ True] [2] D:/20220218\\lucio20220218dots3DMP0002.ns5\n",
      "\n",
      "Total number of files = 1\n"
     ]
    }
   ],
   "source": [
    "ns5_files = glob.glob(data_dir + '*.ns5')\n",
    "#ns5_files = [f.replace('\\\\','/') for f in ns5_files]\n",
    "\n",
    "# get the recording \"set\" for each file, and the files we actually want (remove files marked for ignore)\n",
    "from mat4py import loadmat\n",
    "info = loadmat(\"{}{}{}dots3DMP_info.mat\".format(data_dir,subject,date))\n",
    "\n",
    "rec_set = np.array([info['info']['rec_group']]).T\n",
    "ignores = np.isnan(np.array([info['info']['pldaps_filetimes']])).T\n",
    "\n",
    "_, ufi  = np.unique(info['info']['trellis_filenums'], return_index=True)\n",
    "\n",
    "if type(rec_set) is int:\n",
    "    rec_set = [rec_set]\n",
    "    \n",
    "rec_set = rec_set[ufi]\n",
    "\n",
    "rec_set_all = rec_set\n",
    "ns5_files_all = ns5_files\n",
    "\n",
    "if np.any(ignores):\n",
    "   \n",
    "    rec_set = []\n",
    "    ns5_files = []\n",
    "\n",
    "    for i,r in enumerate(rec_set_all):\n",
    "        if ~ignores[i]:\n",
    "            rec_set.append(r)\n",
    "            ns5_files.append(ns5_files_all[i])\n",
    "\n",
    "print(\"Directory: \" + data_dir)\n",
    "for i, r in enumerate(rec_set_all):\n",
    "    print(i, r, ignores[i], rec_set_all[i], ns5_files_all[i])\n",
    "print(\"\\nTotal number of files = \" + str(len(ns5_files)))\n"
   ]
  },
  {
   "cell_type": "markdown",
   "id": "5b73c259",
   "metadata": {},
   "source": [
    "Define probe geometry. Single electrode seems unnecessary, but waveform_extractor seems to need it"
   ]
  },
  {
   "cell_type": "code",
   "execution_count": 6,
   "id": "402ed7fa",
   "metadata": {},
   "outputs": [],
   "source": [
    "show_probe = False\n",
    "\n",
    "if probe_type == 'single':\n",
    "    n=1\n",
    "    positions = np.zeros((1,2))\n",
    "    channel_indices = [1]\n",
    "elif probe_type == 'DBC32-A':\n",
    "    n = 32\n",
    "    positions = np.zeros((n, 2))\n",
    "    positions[:,1] = np.arange(n)*65 + distance_to_first_contact\n",
    "    channel_indices = [4,  30,  5, 27,  6, 28,  7, 25, \n",
    "                       3,  29,  8, 26,  9, 23, 10, 24,  \n",
    "                       2,  32, 11, 21, 12, 22, 13, 19, \n",
    "                       16, 18,  1, 31, 14, 20, 15, 17]\n",
    "\n",
    "probe = Probe(ndim=2, si_units='um')\n",
    "probe.set_contacts(positions=positions, shapes='circle', shape_params={'radius': 10})\n",
    "probe.set_contact_ids(range(n))\n",
    "\n",
    "probe.set_device_channel_indices([c-1 for c in channel_indices])\n",
    "probe.create_auto_shape(probe_type='tip')\n",
    "\n",
    "if show_probe:\n",
    "    print(probe)\n",
    "    fig, ax = plt.subplots(figsize= (5,15))\n",
    "    plot_probe(probe, ax = ax, with_contact_id=False, with_device_index=True)"
   ]
  },
  {
   "cell_type": "code",
   "execution_count": 7,
   "id": "c72a891a",
   "metadata": {},
   "outputs": [
    {
     "name": "stdout",
     "output_type": "stream",
     "text": [
      "Setting WAVECLUS_PATH environment variable for subprocess calls to: C:\\Users\\fetschlab\\Documents\\MATLAB\\wave_clus-master\n"
     ]
    }
   ],
   "source": [
    "# print('Default parameters')\n",
    "# print('\\nWaveClus')\n",
    "# print(ss.get_default_sorter_params('waveclus'))\n",
    "# print('\\nKilosort2')\n",
    "# print(ss.get_default_sorter_params('kilosort2'))\n",
    "# print('\\nMountainSort')\n",
    "# print(ss.get_default_sorter_params('mountainsort4'))\n",
    "#print('\\nHDSort')\n",
    "#print(ss.get_default_sorter_params('hdsort'))\n",
    "\n",
    "#si.set_global_tmp_folder('C:/Users/fetschlab/Trellis/dataFiles/')\n",
    "#si.get_global_tmp_folder()\n",
    "\n",
    "ss.WaveClusSorter.set_waveclus_path('C:/Users/fetschlab/Documents/MATLAB/wave_clus-master')\n",
    "#ss.Kilosort2Sorter.set_kilosort2_path('C:/Users/fetschlab/Documents/MATLAB/Kilosort-2.0')\n",
    "#ss.HDSortSorter.set_hdsort_path('C:/Users/fetschlab/Documents/MATLAB/HDsort')\n",
    "#ss.IronClustSorter.set_ironclust_path('C:/Users/fetschlab/Documents/MATLAB/ironclust')\n",
    "\n",
    "sorter_list = ['kilosort2','hdsort','ironclust']"
   ]
  },
  {
   "cell_type": "code",
   "execution_count": 8,
   "id": "20b9d80e",
   "metadata": {
    "scrolled": true
   },
   "outputs": [
    {
     "name": "stdout",
     "output_type": "stream",
     "text": [
      "Set 1:\n",
      "\n",
      "[0]\n",
      "ConcatenateSegmentRecording: 1 channels - 1 segments - 30.0kHz - 1120.566s\n",
      "write_binary_recording with n_jobs = 1 and chunk_size = None\n",
      "RUNNING SHELL SCRIPT: C:\\Users\\FETSCH~1\\AppData\\Local\\Temp\\tmp_shellscript9utoot4e\\script.bat\n",
      "RUNNING SHELL SCRIPT: C:\\Users\\FETSCH~1\\AppData\\Local\\Temp\\tmp_shellscript2fohcsqo\\script.bat\n",
      "RUNNING SHELL SCRIPT: C:\\Users\\FETSCH~1\\AppData\\Local\\Temp\\tmp_shellscriptzu193rco\\script.bat\n",
      "RUNNING SHELL SCRIPT: C:\\Users\\fetschlab\\Desktop\\waveclus_output\\run_waveclus.bat\n",
      "Traceback (most recent call last):\n",
      "  File \"C:\\Users\\fetschlab\\AppData\\Local\\Programs\\Python\\Python310\\lib\\site-packages\\spikeinterface\\sorters\\basesorter.py\", line 225, in run_from_folder\n",
      "    SorterClass._run_from_folder(output_folder, sorter_params, verbose)\n",
      "  File \"C:\\Users\\fetschlab\\AppData\\Local\\Programs\\Python\\Python310\\lib\\site-packages\\spikeinterface\\sorters\\waveclus\\waveclus.py\", line 213, in _run_from_folder\n",
      "    raise Exception('waveclus returned a non-zero exit code')\n",
      "Exception: waveclus returned a non-zero exit code\n",
      "\n"
     ]
    },
    {
     "ename": "SpikeSortingError",
     "evalue": "Spike sorting failed. You can inspect the runtime trace in waveclus_output/spikeinterface_log.json",
     "output_type": "error",
     "traceback": [
      "\u001b[1;31m---------------------------------------------------------------------------\u001b[0m",
      "\u001b[1;31mSpikeSortingError\u001b[0m                         Traceback (most recent call last)",
      "Input \u001b[1;32mIn [8]\u001b[0m, in \u001b[0;36m<module>\u001b[1;34m\u001b[0m\n\u001b[0;32m     62\u001b[0m \u001b[38;5;28;01mexcept\u001b[39;00m:\n\u001b[0;32m     63\u001b[0m     \u001b[38;5;28mprint\u001b[39m(\u001b[38;5;124m\"\u001b[39m\u001b[38;5;124mRecording folder already exists...?\u001b[39m\u001b[38;5;124m\"\u001b[39m)\n\u001b[1;32m---> 65\u001b[0m sorting_WC  \u001b[38;5;241m=\u001b[39m \u001b[43mss\u001b[49m\u001b[38;5;241;43m.\u001b[39;49m\u001b[43mrun_waveclus\u001b[49m\u001b[43m(\u001b[49m\u001b[43mrecording\u001b[49m\u001b[38;5;241;43m=\u001b[39;49m\u001b[43mmultirecording\u001b[49m\u001b[43m,\u001b[49m\u001b[43m \u001b[49m\u001b[43mdocker_image\u001b[49m\u001b[38;5;241;43m=\u001b[39;49m\u001b[38;5;28;43;01mFalse\u001b[39;49;00m\u001b[43m)\u001b[49m\n\u001b[0;32m     66\u001b[0m \u001b[38;5;28mprint\u001b[39m(\u001b[38;5;124m'\u001b[39m\u001b[38;5;124mUnits found by waveClus:\u001b[39m\u001b[38;5;124m'\u001b[39m, sorting_WC\u001b[38;5;241m.\u001b[39mget_unit_ids())\n\u001b[0;32m     68\u001b[0m waveforms_folder \u001b[38;5;241m=\u001b[39m outfolder \u001b[38;5;241m+\u001b[39m \u001b[38;5;124m'\u001b[39m\u001b[38;5;124m/waveforms_WC\u001b[39m\u001b[38;5;124m'\u001b[39m\n",
      "File \u001b[1;32m~\\AppData\\Local\\Programs\\Python\\Python310\\lib\\site-packages\\spikeinterface\\sorters\\runsorter.py:712\u001b[0m, in \u001b[0;36mrun_waveclus\u001b[1;34m(*args, **kwargs)\u001b[0m\n\u001b[0;32m    711\u001b[0m \u001b[38;5;28;01mdef\u001b[39;00m \u001b[38;5;21mrun_waveclus\u001b[39m(\u001b[38;5;241m*\u001b[39margs, \u001b[38;5;241m*\u001b[39m\u001b[38;5;241m*\u001b[39mkwargs):\n\u001b[1;32m--> 712\u001b[0m     \u001b[38;5;28;01mreturn\u001b[39;00m run_sorter(\u001b[38;5;124m'\u001b[39m\u001b[38;5;124mwaveclus\u001b[39m\u001b[38;5;124m'\u001b[39m, \u001b[38;5;241m*\u001b[39margs, \u001b[38;5;241m*\u001b[39m\u001b[38;5;241m*\u001b[39mkwargs)\n",
      "File \u001b[1;32m~\\AppData\\Local\\Programs\\Python\\Python310\\lib\\site-packages\\spikeinterface\\sorters\\runsorter.py:143\u001b[0m, in \u001b[0;36mrun_sorter\u001b[1;34m(sorter_name, recording, output_folder, remove_existing_folder, delete_output_folder, verbose, raise_error, docker_image, singularity_image, with_output, **sorter_params)\u001b[0m\n\u001b[0;32m    136\u001b[0m             container_image \u001b[38;5;241m=\u001b[39m singularity_image\n\u001b[0;32m    137\u001b[0m     \u001b[38;5;28;01mreturn\u001b[39;00m run_sorter_container(\n\u001b[0;32m    138\u001b[0m         container_image\u001b[38;5;241m=\u001b[39mcontainer_image,\n\u001b[0;32m    139\u001b[0m         mode\u001b[38;5;241m=\u001b[39mmode,\n\u001b[0;32m    140\u001b[0m         \u001b[38;5;241m*\u001b[39m\u001b[38;5;241m*\u001b[39mcommon_kwargs,\n\u001b[0;32m    141\u001b[0m     )\n\u001b[1;32m--> 143\u001b[0m \u001b[38;5;28;01mreturn\u001b[39;00m run_sorter_local(\u001b[38;5;241m*\u001b[39m\u001b[38;5;241m*\u001b[39mcommon_kwargs)\n",
      "File \u001b[1;32m~\\AppData\\Local\\Programs\\Python\\Python310\\lib\\site-packages\\spikeinterface\\sorters\\runsorter.py:163\u001b[0m, in \u001b[0;36mrun_sorter_local\u001b[1;34m(sorter_name, recording, output_folder, remove_existing_folder, delete_output_folder, verbose, raise_error, with_output, **sorter_params)\u001b[0m\n\u001b[0;32m    160\u001b[0m SorterClass\u001b[38;5;241m.\u001b[39mset_params_to_folder(\n\u001b[0;32m    161\u001b[0m     recording, output_folder, sorter_params, verbose)\n\u001b[0;32m    162\u001b[0m SorterClass\u001b[38;5;241m.\u001b[39msetup_recording(recording, output_folder, verbose\u001b[38;5;241m=\u001b[39mverbose)\n\u001b[1;32m--> 163\u001b[0m \u001b[43mSorterClass\u001b[49m\u001b[38;5;241;43m.\u001b[39;49m\u001b[43mrun_from_folder\u001b[49m\u001b[43m(\u001b[49m\u001b[43moutput_folder\u001b[49m\u001b[43m,\u001b[49m\u001b[43m \u001b[49m\u001b[43mraise_error\u001b[49m\u001b[43m,\u001b[49m\u001b[43m \u001b[49m\u001b[43mverbose\u001b[49m\u001b[43m)\u001b[49m\n\u001b[0;32m    164\u001b[0m \u001b[38;5;28;01mif\u001b[39;00m with_output:\n\u001b[0;32m    165\u001b[0m     sorting \u001b[38;5;241m=\u001b[39m SorterClass\u001b[38;5;241m.\u001b[39mget_result_from_folder(output_folder)\n",
      "File \u001b[1;32m~\\AppData\\Local\\Programs\\Python\\Python310\\lib\\site-packages\\spikeinterface\\sorters\\basesorter.py:261\u001b[0m, in \u001b[0;36mBaseSorter.run_from_folder\u001b[1;34m(cls, output_folder, raise_error, verbose)\u001b[0m\n\u001b[0;32m    259\u001b[0m \u001b[38;5;28;01mif\u001b[39;00m has_error \u001b[38;5;129;01mand\u001b[39;00m raise_error:\n\u001b[0;32m    260\u001b[0m     \u001b[38;5;28mprint\u001b[39m(log[\u001b[38;5;124m'\u001b[39m\u001b[38;5;124merror_trace\u001b[39m\u001b[38;5;124m'\u001b[39m])\n\u001b[1;32m--> 261\u001b[0m     \u001b[38;5;28;01mraise\u001b[39;00m SpikeSortingError(\n\u001b[0;32m    262\u001b[0m         \u001b[38;5;124mf\u001b[39m\u001b[38;5;124m\"\u001b[39m\u001b[38;5;124mSpike sorting failed. You can inspect the runtime trace in \u001b[39m\u001b[38;5;132;01m{\u001b[39;00moutput_folder\u001b[38;5;132;01m}\u001b[39;00m\u001b[38;5;124m/spikeinterface_log.json\u001b[39m\u001b[38;5;124m\"\u001b[39m)\n\u001b[0;32m    264\u001b[0m \u001b[38;5;28;01mreturn\u001b[39;00m run_time\n",
      "\u001b[1;31mSpikeSortingError\u001b[0m: Spike sorting failed. You can inspect the runtime trace in waveclus_output/spikeinterface_log.json"
     ]
    }
   ],
   "source": [
    "usets = np.unique(rec_set)\n",
    "filenums = list(range(len(rec_set)))\n",
    "\n",
    "# TEMP for testing\n",
    "#usets = [1]\n",
    "#filenums = [0]\n",
    "\n",
    "fs = 30000\n",
    "\n",
    "# sort each 'set' (set is a python keyword, don't use it!)\n",
    "for s in usets:\n",
    "\n",
    "    print('Set {}:\\n'.format(s))\n",
    "    # find associated binary file\n",
    "    binfolder = '{}{}_{}'.format(subject, str(date), str(s))\n",
    "    #outfolder = 'C:/Users/fetschlab/Trellis/dataFiles/{}_si'.format(binfolder)\n",
    "    outfolder = '{}{}'.format(data_dir, binfolder)\n",
    "    \n",
    "    sort_folder = outfolder + '/sorting_output'\n",
    "\n",
    "    if probe != 'single':\n",
    "        bin_filepath = '{0}{1}/{1}.bin'.format(data_dir,binfolder)\n",
    "    \n",
    "    ind_files = [filenums[f] for f in filenums if s==rec_set[f]]\n",
    "    print(ind_files)\n",
    "    \n",
    "    if not(len(ind_files)): \n",
    "        continue\n",
    "        \n",
    "    # append files from same set, if needed, to sort them together\n",
    "    recordings_list = []\n",
    "    for file in ind_files:\n",
    "\n",
    "        if probe_type == 'single':\n",
    "            this_filepath = ns5_files[file]\n",
    "            recording = se.read_blackrock(this_filepath,stream_id='5') \n",
    "        else:\n",
    "            recording = si.read_binary(bin_filepath,sampling_frequency=fs,num_chan=n, dtype='int16',time_axis=1)\n",
    "                \n",
    "        recording = recording.set_probe(probe)\n",
    "        \n",
    "        # bandpass filter for spikes\n",
    "        # I don't think this is necessary if it's done in sorter? i think there is a setting in sorting. for now do it here\n",
    "        recording = spre.bandpass_filter(recording, freq_min=300, freq_max=6000)\n",
    "        \n",
    "        # common average referencing. also seems like this is default for kilosort\n",
    "        #recording = spre.common_reference(recording, reference='global', operator='median')\n",
    "        \n",
    "        recordings_list.append(recording)\n",
    "        \n",
    "    # put the recordings together, so that we can track unit IDs across grouped recs \n",
    "    multirecording = si.concatenate_recordings(recordings_list)\n",
    "    multirecording = multirecording.set_probe(recording.get_probe()) # add a probe geometry, I guess it is not auto-inherited\n",
    "    print(multirecording)\n",
    "    \n",
    "    \n",
    "    # container needs to be able to access recording on disk\n",
    "    if probe_type == 'single':\n",
    "        \n",
    "        try:\n",
    "            multirecording = multirecording.save(format='binary', folder=outfolder, verbose=True)\n",
    "        except:\n",
    "            print(\"Recording folder already exists...?\")\n",
    "            \n",
    "        sorting_WC  = ss.run_waveclus(recording=multirecording, docker_image=False)\n",
    "        print('Units found by waveClus:', sorting_WC.get_unit_ids())\n",
    "        \n",
    "        waveforms_folder = outfolder + '/waveforms_WC'\n",
    "\n",
    "        # get all waveforms\n",
    "        we_WC = si.extract_waveforms(\n",
    "                      multirecording, \n",
    "                      sorting_WC, \n",
    "                      waveforms_folder,\n",
    "                      load_if_exists=True,\n",
    "                      ms_before=1, ms_after=2., max_spikes_per_unit=None,\n",
    "                      n_jobs=1, chunk_size=30000,\n",
    "                      return_scaled=True,\n",
    "                      with_recording=False)\n",
    "        \n",
    "        # now that we have the waveforms, export to phy for visualization and curation\n",
    "        export_to_phy(we_WC, outfolder + '/phy_WC',\n",
    "             compute_pc_features=True, compute_amplitudes=True)\n",
    "        \n",
    "    else:\n",
    "        \n",
    "        # need to test this\n",
    "        #sorting_output = si.sorters.run_sorters(sorter_list, multirecording, working_folder=outfolder, sorter_params={}, \n",
    "        #                                   mode_if_folder_exists='keep', with_output=True)\n",
    "        \n",
    "        # at some point switch to ss.sorters, to run multiple in one call. with dicts for inputs \n",
    "        \n",
    "        try:\n",
    "        # although we have the binary file already, I think we need this for the json files \n",
    "            multirecording = multirecording.save(format='binary', folder=outfolder, verbose=True, chunk_size=fs*2)\n",
    "        except:\n",
    "            print(\"Recording folder already exists...?\")\n",
    "                    \n",
    "        #sorting_HDS  = ss.run_hdsort(recording=multirecording, output_folder=sort_folder, docker_image=False, chunk_size=fs*5,\n",
    "        #                            remove_existing_folder=True, delete_output_folder=False)\n",
    "        sorting_KS2 = ss.run_kilosort2(recording=multirecording, docker_image=True, chunk_size=fs*5,\n",
    "                                    delete_output_folder=True)\n",
    "        #sorting_IC = ss.run_ironclust(recording=multirecording, docker_image=True, chunk_size=fs*5,\n",
    "        #                            delete_output_folder=True)\n",
    "\n",
    "#         waveforms_folder = outfolder + '/waveforms_HDS'\n",
    "\n",
    "#         we_HDS = si.extract_waveforms(\n",
    "#                      multirecording, \n",
    "#                      sorting_HDS, \n",
    "#                      waveforms_folder,\n",
    "#                      load_if_exists=True,\n",
    "#                      ms_before=1, ms_after=2., max_spikes_per_unit=None,\n",
    "#                      n_jobs=1, chunk_size=fs*4,\n",
    "#                       return_scaled=True)\n",
    "        \n",
    "#         export_to_phy(we_HDS, outfolder + '/phy_HDS',\n",
    "#                compute_pc_features=True, compute_amplitudes=True)\n",
    "            \n",
    "        \n",
    "        waveforms_folder = outfolder + '/waveforms_KS2'\n",
    "        we_KS = si.extract_waveforms(\n",
    "                     multirecording, \n",
    "                     sorting_KS2, \n",
    "                      waveforms_folder,\n",
    "                      load_if_exists=True,\n",
    "                      ms_before=1, ms_after=2., max_spikes_per_unit=None,\n",
    "                      n_jobs=1, chunk_size=fs*4,\n",
    "                      return_scaled=True)\n",
    "\n",
    "        export_to_phy(we_KS, outfolder + '/phy_KS',\n",
    "              compute_pc_features=True, compute_amplitudes=True)\n",
    "        \n",
    "        \n",
    "        waveforms_folder = outfolder + '/waveforms_IC'\n",
    "        we_IC = si.extract_waveforms(\n",
    "                     multirecording, \n",
    "                     sorting_IC, \n",
    "                      waveforms_folder,\n",
    "                      load_if_exists=True,\n",
    "                      ms_before=1, ms_after=2., max_spikes_per_unit=None,\n",
    "                      n_jobs=1, chunk_size=fs*4,\n",
    "                      return_scaled=True)\n",
    "\n",
    "        export_to_phy(we_KS, outfolder + '/phy_IC',\n",
    "              compute_pc_features=True, compute_amplitudes=True)\n",
    "        \n",
    "        \n",
    "\n",
    "        # Compare the sorter outputs\n",
    "\n",
    "#         comp_KS_HDS = sc.compare_two_sorters(sorting1=sorting_KS2, sorting2=sorting_HDS)\n",
    "#         comp_KS_HDS.hungarian_match_12 \n",
    "        "
   ]
  },
  {
   "cell_type": "code",
   "execution_count": null,
   "id": "5f32ee33",
   "metadata": {},
   "outputs": [],
   "source": [
    "filenums = list(range(len(rec_set)))\n",
    "filenums"
   ]
  },
  {
   "cell_type": "code",
   "execution_count": null,
   "id": "ac3d37cc",
   "metadata": {},
   "outputs": [],
   "source": [
    "print(multirecording.get_num_channels())\n",
    "print(outfolder)\n",
    "#export_to_phy(we_WC, './phy_WC',\n",
    "#               compute_pc_features=False, compute_amplitudes=True)"
   ]
  },
  {
   "cell_type": "code",
   "execution_count": 16,
   "id": "1b2cec41",
   "metadata": {},
   "outputs": [
    {
     "name": "stdout",
     "output_type": "stream",
     "text": [
      "Channel ids: ['3']\n",
      "Sampling frequency: 30000.0\n",
      "Number of channels: 1\n",
      "Number of segments: 1\n",
      "BandpassFilterRecording: 1 channels - 1 segments - 30.0kHz - 547.518s\n"
     ]
    },
    {
     "data": {
      "image/png": "[encoded data removed]",
      "text/plain": [
       "<Figure size 432x288 with 1 Axes>"
      ]
     },
     "metadata": {
      "needs_background": "light"
     },
     "output_type": "display_data"
    }
   ],
   "source": [
    "# some basic metadata diagnostics\n",
    "\n",
    "channel_ids = multirecording.get_channel_ids()\n",
    "fs = recording.get_sampling_frequency()\n",
    "num_chan = recording.get_num_channels()\n",
    "num_seg = recording.get_num_segments()\n",
    "\n",
    "print('Channel ids:', channel_ids)\n",
    "print('Sampling frequency:', fs)\n",
    "print('Number of channels:', num_chan)\n",
    "print('Number of segments:', num_seg)\n",
    "print(recording)\n",
    "w_ts = sw.plot_timeseries(recording, time_range=(0, 200))"
   ]
  },
  {
   "cell_type": "code",
   "execution_count": null,
   "id": "775da68b",
   "metadata": {},
   "outputs": [],
   "source": [
    "# print the dimensions of waveforms and template vars, and plot preview of rasters\n",
    "\n",
    "unit_id0 = sorting_WC.unit_ids[0]\n",
    "waveforms = we_WC.get_waveforms(unit_id0)\n",
    "print(waveforms.shape)\n",
    "\n",
    "template = we_WC.get_template(unit_id0)\n",
    "print(template.shape)\n",
    "\n",
    "w_rs = sw.plot_rasters(sorting_WC, time_range=(0, 100))"
   ]
  },
  {
   "cell_type": "code",
   "execution_count": null,
   "id": "905a7e1b",
   "metadata": {},
   "outputs": [],
   "source": [
    "# plot waveforms and mean templates\n",
    "\n",
    "colors = ['Olive', 'Teal', 'Fuchsia']\n",
    "\n",
    "fig, ax = plt.subplots(2,1)\n",
    "for i, unit_id in enumerate(sorting_WC.unit_ids[:3]):\n",
    "    wf = we_WC.get_waveforms(unit_id)\n",
    "    ax[0].plot(wf[:200, :, 0].T, color=colors[i], lw=0.25) \n",
    "    \n",
    "    template = we_WC.get_template(unit_id)\n",
    "    ax[1].plot(template[:, 0].T, color=colors[i], lw=3)    \n",
    "plt.show()"
   ]
  },
  {
   "cell_type": "code",
   "execution_count": null,
   "id": "c938fda6",
   "metadata": {},
   "outputs": [],
   "source": [
    "# gui for viewing sorting output (no curation, Phy is needed for that)\n",
    "\n",
    "import spikeinterface_gui\n",
    "# This creates a Qt app\n",
    "app = spikeinterface_gui.mkQApp() \n",
    "# reload the waveform folder\n",
    "we = si.WaveformExtractor.load_from_folder(wavefl\\)\n",
    "# create the mainwindow and show\n",
    "win = spikeinterface_gui.MainWindow(we)\n",
    "win.show()\n",
    "# run the main Qt6 loop\n",
    "app.exec()"
   ]
  }
 ],
 "metadata": {
  "kernelspec": {
   "display_name": "Python 3 (ipykernel)",
   "language": "python",
   "name": "python3"
  },
  "language_info": {
   "codemirror_mode": {
    "name": "ipython",
    "version": 3
   },
   "file_extension": ".py",
   "mimetype": "text/x-python",
   "name": "python",
   "nbconvert_exporter": "python",
   "pygments_lexer": "ipython3",
   "version": "3.9.16"
  }
 },
 "nbformat": 4,
 "nbformat_minor": 5
}
